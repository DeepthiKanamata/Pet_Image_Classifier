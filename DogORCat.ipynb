{
 "cells": [
  {
   "cell_type": "code",
   "execution_count": 1,
   "id": "f0781c32",
   "metadata": {},
   "outputs": [],
   "source": [
    "import tensorflow as tf"
   ]
  },
  {
   "cell_type": "code",
   "execution_count": 2,
   "id": "eeef54a0-a470-46c4-8dd2-f8906faf8c65",
   "metadata": {},
   "outputs": [],
   "source": [
    "from tensorflow.keras.preprocessing.image import ImageDataGenerator\n",
    "from tensorflow.keras.preprocessing import image\n"
   ]
  },
  {
   "cell_type": "code",
   "execution_count": 3,
   "id": "25114ff2-67bd-4482-8cab-cc75f764cbdb",
   "metadata": {},
   "outputs": [],
   "source": [
    "import numpy as np"
   ]
  },
  {
   "cell_type": "code",
   "execution_count": 4,
   "id": "0da712f8-de6d-4873-b24b-40d8a6644ea4",
   "metadata": {},
   "outputs": [],
   "source": [
    "import numpy as np"
   ]
  },
  {
   "cell_type": "code",
   "execution_count": 5,
   "id": "2944d8c6-e81c-4662-a999-702920f42299",
   "metadata": {},
   "outputs": [
    {
     "name": "stdout",
     "output_type": "stream",
     "text": [
      "Found 8000 images belonging to 2 classes.\n"
     ]
    }
   ],
   "source": [
    "train_datagen = ImageDataGenerator(rescale=1.0/255, shear_range=0.2, zoom_range=0.2, horizontal_flip=True)\n",
    "training_set = train_datagen.flow_from_directory(\n",
    "    r'D:\\2nd Sem\\3706\\ML Project\\Project - CNN for Image Classification\\dataset\\training_set',\n",
    "    target_size=(64, 64),\n",
    "    batch_size=32,\n",
    "    class_mode='binary'\n",
    ")"
   ]
  },
  {
   "cell_type": "code",
   "execution_count": 6,
   "id": "7ea24513",
   "metadata": {},
   "outputs": [
    {
     "name": "stdout",
     "output_type": "stream",
     "text": [
      "Class indices:  {'cats': 0, 'dogs': 1}\n"
     ]
    }
   ],
   "source": [
    "print(\"Class indices: \", training_set.class_indices)"
   ]
  },
  {
   "cell_type": "code",
   "execution_count": 7,
   "id": "97ec93b8-2ede-4fbc-8fc6-5f669eeaa5ea",
   "metadata": {},
   "outputs": [
    {
     "name": "stdout",
     "output_type": "stream",
     "text": [
      "Found 8000 images belonging to 2 classes.\n"
     ]
    }
   ],
   "source": [
    "test_datagen = ImageDataGenerator(rescale=1.0/255)\n",
    "test_set = test_datagen.flow_from_directory(\n",
    "    r'D:\\2nd Sem\\3706\\ML Project\\Project - CNN for Image Classification\\dataset\\training_set',\n",
    "    target_size=(64, 64),\n",
    "    batch_size=32,\n",
    "    class_mode='binary'\n",
    ")"
   ]
  },
  {
   "cell_type": "code",
   "execution_count": 8,
   "id": "f260f42f-6cae-495d-ba35-dff995571dff",
   "metadata": {},
   "outputs": [],
   "source": [
    "cnn = tf.keras.models.Sequential()"
   ]
  },
  {
   "cell_type": "code",
   "execution_count": 9,
   "id": "1cc3b049-7177-409b-9564-845728ffc6a7",
   "metadata": {},
   "outputs": [],
   "source": [
    "cnn.add(tf.keras.layers.Conv2D(filters=32, kernel_size=3, activation='relu', input_shape=[64, 64, 3]))"
   ]
  },
  {
   "cell_type": "code",
   "execution_count": 10,
   "id": "36a148f0-3fe1-4047-a4fe-3d5c00cb5072",
   "metadata": {},
   "outputs": [],
   "source": [
    "cnn.add(tf.keras.layers.MaxPooling2D(pool_size=2, strides=2))"
   ]
  },
  {
   "cell_type": "code",
   "execution_count": 11,
   "id": "a4b4d032-b707-4556-995c-723631a408c3",
   "metadata": {},
   "outputs": [],
   "source": [
    "cnn.add(tf.keras.layers.Conv2D(filters=32, kernel_size=3, activation='relu'))\n",
    "cnn.add(tf.keras.layers.MaxPooling2D(pool_size=2, strides=2))"
   ]
  },
  {
   "cell_type": "code",
   "execution_count": 12,
   "id": "f4d93088-7fe9-4565-9f39-8954687bb1d5",
   "metadata": {},
   "outputs": [],
   "source": [
    "cnn.add(tf.keras.layers.Flatten())"
   ]
  },
  {
   "cell_type": "code",
   "execution_count": 13,
   "id": "d1eb0b47-6e23-4a24-9cb9-a0da5dc81845",
   "metadata": {},
   "outputs": [],
   "source": [
    "cnn.add(tf.keras.layers.Dense(units=128, activation='relu'))"
   ]
  },
  {
   "cell_type": "code",
   "execution_count": 14,
   "id": "1d057c05-25cf-4ddd-8bb7-c0b68ec1d6cd",
   "metadata": {},
   "outputs": [],
   "source": [
    "cnn.add(tf.keras.layers.Dense(units=1, activation='sigmoid'))"
   ]
  },
  {
   "cell_type": "code",
   "execution_count": 15,
   "id": "d9f44142-4628-49e1-b096-dced80a7bafa",
   "metadata": {},
   "outputs": [],
   "source": [
    "cnn.compile(optimizer='adam', loss='binary_crossentropy', metrics=['accuracy'])"
   ]
  },
  {
   "cell_type": "code",
   "execution_count": 16,
   "id": "9dbcb4e8-134f-4d84-b75c-3d0f38658466",
   "metadata": {},
   "outputs": [
    {
     "name": "stdout",
     "output_type": "stream",
     "text": [
      "Epoch 1/25\n",
      "250/250 [==============================] - 111s 439ms/step - loss: 0.6847 - accuracy: 0.5580 - val_loss: 0.6153 - val_accuracy: 0.6802\n",
      "Epoch 2/25\n",
      "250/250 [==============================] - 49s 196ms/step - loss: 0.6100 - accuracy: 0.6704 - val_loss: 0.5660 - val_accuracy: 0.7082\n",
      "Epoch 3/25\n",
      "250/250 [==============================] - 49s 195ms/step - loss: 0.5649 - accuracy: 0.7100 - val_loss: 0.5544 - val_accuracy: 0.7151\n",
      "Epoch 4/25\n",
      "250/250 [==============================] - 48s 194ms/step - loss: 0.5293 - accuracy: 0.7371 - val_loss: 0.4783 - val_accuracy: 0.7690\n",
      "Epoch 5/25\n",
      "250/250 [==============================] - 49s 195ms/step - loss: 0.5076 - accuracy: 0.7480 - val_loss: 0.4690 - val_accuracy: 0.7768\n",
      "Epoch 6/25\n",
      "250/250 [==============================] - 49s 195ms/step - loss: 0.4915 - accuracy: 0.7588 - val_loss: 0.4385 - val_accuracy: 0.7977\n",
      "Epoch 7/25\n",
      "250/250 [==============================] - 49s 195ms/step - loss: 0.4717 - accuracy: 0.7739 - val_loss: 0.4238 - val_accuracy: 0.8089\n",
      "Epoch 8/25\n",
      "250/250 [==============================] - 50s 201ms/step - loss: 0.4552 - accuracy: 0.7851 - val_loss: 0.4043 - val_accuracy: 0.8145\n",
      "Epoch 9/25\n",
      "250/250 [==============================] - 49s 198ms/step - loss: 0.4365 - accuracy: 0.7983 - val_loss: 0.3939 - val_accuracy: 0.8204\n",
      "Epoch 10/25\n",
      "250/250 [==============================] - 49s 197ms/step - loss: 0.4356 - accuracy: 0.7947 - val_loss: 0.3899 - val_accuracy: 0.8216\n",
      "Epoch 11/25\n",
      "250/250 [==============================] - 48s 193ms/step - loss: 0.4200 - accuracy: 0.7999 - val_loss: 0.3592 - val_accuracy: 0.8406\n",
      "Epoch 12/25\n",
      "250/250 [==============================] - 48s 193ms/step - loss: 0.4023 - accuracy: 0.8139 - val_loss: 0.3647 - val_accuracy: 0.8353\n",
      "Epoch 13/25\n",
      "250/250 [==============================] - 49s 195ms/step - loss: 0.3961 - accuracy: 0.8155 - val_loss: 0.3609 - val_accuracy: 0.8376\n",
      "Epoch 14/25\n",
      "250/250 [==============================] - 49s 195ms/step - loss: 0.3866 - accuracy: 0.8217 - val_loss: 0.3627 - val_accuracy: 0.8355\n",
      "Epoch 15/25\n",
      "250/250 [==============================] - 49s 195ms/step - loss: 0.3717 - accuracy: 0.8326 - val_loss: 0.3348 - val_accuracy: 0.8515\n",
      "Epoch 16/25\n",
      "250/250 [==============================] - 49s 198ms/step - loss: 0.3663 - accuracy: 0.8379 - val_loss: 0.3221 - val_accuracy: 0.8550\n",
      "Epoch 17/25\n",
      "250/250 [==============================] - 49s 198ms/step - loss: 0.3502 - accuracy: 0.8444 - val_loss: 0.3055 - val_accuracy: 0.8674\n",
      "Epoch 18/25\n",
      "250/250 [==============================] - 49s 195ms/step - loss: 0.3503 - accuracy: 0.8393 - val_loss: 0.3409 - val_accuracy: 0.8484\n",
      "Epoch 19/25\n",
      "250/250 [==============================] - 50s 199ms/step - loss: 0.3445 - accuracy: 0.8475 - val_loss: 0.2644 - val_accuracy: 0.8924\n",
      "Epoch 20/25\n",
      "250/250 [==============================] - 50s 200ms/step - loss: 0.3161 - accuracy: 0.8611 - val_loss: 0.2572 - val_accuracy: 0.8885\n",
      "Epoch 21/25\n",
      "250/250 [==============================] - 49s 196ms/step - loss: 0.3218 - accuracy: 0.8611 - val_loss: 0.2936 - val_accuracy: 0.8698\n",
      "Epoch 22/25\n",
      "250/250 [==============================] - 49s 195ms/step - loss: 0.3098 - accuracy: 0.8631 - val_loss: 0.2350 - val_accuracy: 0.9031\n",
      "Epoch 23/25\n",
      "250/250 [==============================] - 48s 190ms/step - loss: 0.2987 - accuracy: 0.8726 - val_loss: 0.2385 - val_accuracy: 0.8996\n",
      "Epoch 24/25\n",
      "250/250 [==============================] - 48s 190ms/step - loss: 0.2842 - accuracy: 0.8771 - val_loss: 0.2189 - val_accuracy: 0.9128\n",
      "Epoch 25/25\n",
      "250/250 [==============================] - 50s 200ms/step - loss: 0.2812 - accuracy: 0.8851 - val_loss: 0.2005 - val_accuracy: 0.9184\n"
     ]
    },
    {
     "data": {
      "text/plain": [
       "<keras.callbacks.History at 0x212aab45f10>"
      ]
     },
     "execution_count": 16,
     "metadata": {},
     "output_type": "execute_result"
    }
   ],
   "source": [
    "cnn.fit(\n",
    "    x=training_set,\n",
    "    validation_data=test_set,\n",
    "    epochs=25\n",
    ")\n"
   ]
  },
  {
   "cell_type": "code",
   "execution_count": 17,
   "id": "6f367e01-b74a-4df6-b7de-6c7ae8e88208",
   "metadata": {},
   "outputs": [],
   "source": [
    "def predict_single_image(image_path, model):\n",
    "    test_image = image.load_img(image_path, target_size=(64, 64))\n",
    "    test_image = image.img_to_array(test_image)\n",
    "    test_image = np.expand_dims(test_image, axis=0)\n",
    "    result = model.predict(test_image)\n",
    "    if result[0][0] == 1:\n",
    "        return 'dog'\n",
    "    else:\n",
    "        return 'cat'\n"
   ]
  },
  {
   "cell_type": "code",
   "execution_count": 19,
   "id": "9403ebdf-dd6a-44a1-a012-df795c70c1aa",
   "metadata": {},
   "outputs": [
    {
     "name": "stdout",
     "output_type": "stream",
     "text": [
      "1/1 [==============================] - 0s 22ms/step\n",
      "The predicted class is: dog\n"
     ]
    }
   ],
   "source": [
    "single_image_path = r'D:\\2nd Sem\\3706\\ML Project\\Project - CNN for Image Classification\\dataset\\single_prediction\\cat_or_dog_1.jpg'\n",
    "prediction = predict_single_image(single_image_path, cnn)\n",
    "print(f\"The predicted class is: {prediction}\")\n"
   ]
  },
  {
   "cell_type": "code",
   "execution_count": null,
   "id": "4c1d8d9e-a243-4760-bdef-a2340ecc9645",
   "metadata": {},
   "outputs": [],
   "source": []
  }
 ],
 "metadata": {
  "kernelspec": {
   "display_name": "Python 3 (ipykernel)",
   "language": "python",
   "name": "python3"
  },
  "language_info": {
   "codemirror_mode": {
    "name": "ipython",
    "version": 3
   },
   "file_extension": ".py",
   "mimetype": "text/x-python",
   "name": "python",
   "nbconvert_exporter": "python",
   "pygments_lexer": "ipython3",
   "version": "3.9.12"
  }
 },
 "nbformat": 4,
 "nbformat_minor": 5
}
